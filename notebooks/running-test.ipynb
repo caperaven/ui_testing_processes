{
 "cells": [
  {
   "cell_type": "markdown",
   "source": [
    "### Running tests\n",
    "\n",
    "1. Initialize the test runner"
   ],
   "metadata": {
    "collapsed": false
   }
  },
  {
   "cell_type": "code",
   "execution_count": 1,
   "outputs": [],
   "source": [
    "from api import Api\n",
    "import os\n",
    "\n",
    "# 2. get the folder on where chrome is located\n",
    "current_directory = os.getcwd()\n",
    "full_chrome_path = os.path.join(current_directory, \"./../chrome/chromedriver.exe\")\n",
    "full_chrome_path = os.path.normpath(full_chrome_path)\n",
    "\n",
    "# 3. initialize the test runner\n",
    "api = Api()\n",
    "await api.init_driver(\"chrome\", full_chrome_path)"
   ],
   "metadata": {
    "collapsed": false,
    "ExecuteTime": {
     "end_time": "2023-09-12T10:40:54.876080Z",
     "start_time": "2023-09-12T10:40:53.119333400Z"
    }
   }
  },
  {
   "cell_type": "markdown",
   "source": [
    "### Running a process\n",
    "\n",
    "The following indicates how you can define and run a process. In this case we are navigating to google.com."
   ],
   "metadata": {
    "collapsed": false
   }
  },
  {
   "cell_type": "code",
   "execution_count": 2,
   "outputs": [],
   "source": [
    "process_schema = {\n",
    "    \"id\": \"navigate_process\",\n",
    "    \"main\": {\n",
    "        \"steps\": {\n",
    "            \"start\": {\n",
    "                \"type\": \"perform\",\n",
    "                \"action\": \"navigate\",\n",
    "                \"args\": {\n",
    "                    \"url\": \"https://www.google.com\"\n",
    "                }\n",
    "            }\n",
    "        }\n",
    "    },\n",
    "    \"_results\": {}\n",
    "}\n",
    "\n",
    "await api.process.run_process(api, process_schema[\"main\"], None, None)"
   ],
   "metadata": {
    "collapsed": false,
    "ExecuteTime": {
     "end_time": "2023-09-12T10:41:05.559223200Z",
     "start_time": "2023-09-12T10:41:00.708769100Z"
    }
   }
  },
  {
   "cell_type": "markdown",
   "source": [
    "2. Close the tests when we are done.\n",
    "\n",
    "In this case we are not saving the tests results so we are setting the save parameter to False"
   ],
   "metadata": {
    "collapsed": false
   }
  },
  {
   "cell_type": "code",
   "execution_count": 3,
   "outputs": [],
   "source": [
    "api.close(False)"
   ],
   "metadata": {
    "collapsed": false,
    "ExecuteTime": {
     "end_time": "2023-09-12T10:41:15.347041800Z",
     "start_time": "2023-09-12T10:41:15.255596700Z"
    }
   }
  }
 ],
 "metadata": {
  "kernelspec": {
   "display_name": "Python 3",
   "language": "python",
   "name": "python3"
  },
  "language_info": {
   "codemirror_mode": {
    "name": "ipython",
    "version": 2
   },
   "file_extension": ".py",
   "mimetype": "text/x-python",
   "name": "python",
   "nbconvert_exporter": "python",
   "pygments_lexer": "ipython2",
   "version": "2.7.6"
  }
 },
 "nbformat": 4,
 "nbformat_minor": 0
}
