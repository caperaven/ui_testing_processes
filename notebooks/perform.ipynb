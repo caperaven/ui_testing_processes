{
 "cells": [
  {
   "cell_type": "code",
   "execution_count": 1,
   "metadata": {
    "collapsed": true
   },
   "outputs": [],
   "source": [
    "from api import Api\n",
    "import os\n",
    "\n",
    "# 2. get the folder on where chrome is located\n",
    "current_directory = os.getcwd()\n",
    "full_chrome_path = os.path.join(current_directory, \"./../chrome/chromedriver.exe\")\n",
    "full_chrome_path = os.path.normpath(full_chrome_path)\n",
    "\n",
    "# 3. initialize the test runner\n",
    "api = Api()\n",
    "await api.init_driver(\"chrome\", full_chrome_path)\n",
    "\n",
    "process_schema = {\n",
    "    \"main\": {\n",
    "        \"steps\": {\n",
    "            \"start\": {\n",
    "                \"type\": \"perform\",\n",
    "                \"action\": \"navigate\",\n",
    "                \"args\": {\n",
    "                    \"url\": \"https://localhost/welcome\"\n",
    "                },\n",
    "                \"wait\": \"welcome-view[data-ready='true']\"\n",
    "            }\n",
    "        }\n",
    "    },\n",
    "    \"_results\": {}\n",
    "}\n",
    "\n",
    "await api.process.run_process(api, process_schema[\"main\"], None, None)\n",
    "\n",
    "api.close(False)"
   ]
  }
 ],
 "metadata": {
  "kernelspec": {
   "display_name": "Python 3",
   "language": "python",
   "name": "python3"
  },
  "language_info": {
   "codemirror_mode": {
    "name": "ipython",
    "version": 2
   },
   "file_extension": ".py",
   "mimetype": "text/x-python",
   "name": "python",
   "nbconvert_exporter": "python",
   "pygments_lexer": "ipython2",
   "version": "2.7.6"
  }
 },
 "nbformat": 4,
 "nbformat_minor": 0
}
