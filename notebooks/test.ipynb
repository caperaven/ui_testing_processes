{
 "cells": [
  {
   "cell_type": "code",
   "execution_count": null,
   "metadata": {
    "collapsed": true
   },
   "outputs": [],
   "source": [
    "dict = {\n",
    "    \"type\": \"system\",\n",
    "    \"action\": \"template\",\n",
    "    \"args\": {\n",
    "        \"schema\": \"crud\",\n",
    "        \"process\": \"create\",\n",
    "        \"parameters\": {\n",
    "            \"entity\": \"staff\",\n",
    "            \"type\": {\n",
    "                \"edtFirstName\": \"John\",\n",
    "                \"lastName\": \"Doe\",\n",
    "                \"costCenter\": \"A11 Cost\"\n",
    "            }\n",
    "        }\n",
    "    }\n",
    "}"
   ]
  }
 ],
 "metadata": {
  "kernelspec": {
   "display_name": "Python 3",
   "language": "python",
   "name": "python3"
  },
  "language_info": {
   "codemirror_mode": {
    "name": "ipython",
    "version": 2
   },
   "file_extension": ".py",
   "mimetype": "text/x-python",
   "name": "python",
   "nbconvert_exporter": "python",
   "pygments_lexer": "ipython2",
   "version": "2.7.6"
  }
 },
 "nbformat": 4,
 "nbformat_minor": 0
}
