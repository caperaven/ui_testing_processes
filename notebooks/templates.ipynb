{
 "cells": [
  {
   "cell_type": "markdown",
   "source": [
    "### Running test with templates\n",
    "\n",
    "Templates allow you to define a set of executable actions that you can call from other processes. This allows you to define common steps once, register it with templates and then use it in different test processes.\n",
    "\n",
    "In this example we are loading the templates directly but when you run the exe it is registered by providing the template folder using the following command line arument.\n",
    "\n",
    "--templates ./test_samples/templates"
   ],
   "metadata": {
    "collapsed": false
   }
  },
  {
   "cell_type": "code",
   "execution_count": 1,
   "outputs": [],
   "source": [
    "from api import Api\n",
    "import os\n",
    "\n",
    "# get the folder on where chrome is located\n",
    "current_directory = os.getcwd()\n",
    "full_chrome_path = os.path.join(current_directory, \"./../chrome/chromedriver.exe\")\n",
    "full_chrome_path = os.path.normpath(full_chrome_path)\n",
    "\n",
    "# initialize the test runner\n",
    "api = Api()\n",
    "await api.init_driver(\"chrome\", full_chrome_path)\n",
    "\n",
    "# standard template where the process does not use parameters\n",
    "template = {\n",
    "    \"id\": \"navigate_to_google\",\n",
    "    \"main\": {\n",
    "        \"steps\": {\n",
    "            \"start\": {\n",
    "                \"type\": \"perform\",\n",
    "                \"action\": \"navigate\",\n",
    "                \"args\": {\n",
    "                    \"url\": \"https://www.google.com\"\n",
    "                }\n",
    "            }\n",
    "        }\n",
    "    }\n",
    "}\n",
    "\n",
    "# template where the process uses parameters\n",
    "template2 = {\n",
    "    \"id\": \"navigate_to\",\n",
    "    \"main\": {\n",
    "        \"parameters_def\": {\n",
    "            \"url\": {\n",
    "                \"required\": True\n",
    "            }\n",
    "        },\n",
    "        \"steps\": {\n",
    "            \"start\": {\n",
    "                \"type\": \"perform\",\n",
    "                \"action\": \"navigate\",\n",
    "                \"args\": {\n",
    "                    \"url\": \"$parameters.url\"\n",
    "                }\n",
    "            }\n",
    "        }\n",
    "    }\n",
    "}\n",
    "\n",
    "api.process_schema_registry.set_template(template)\n",
    "api.process_schema_registry.set_template(template2)"
   ],
   "metadata": {
    "collapsed": false,
    "ExecuteTime": {
     "end_time": "2023-09-12T10:41:28.949108500Z",
     "start_time": "2023-09-12T10:41:27.156048Z"
    }
   }
  },
  {
   "cell_type": "markdown",
   "source": [
    "### Running a process with a template\n",
    "This example runs a template with no parameters\n",
    "You can also run templates with parameters, see the next example"
   ],
   "metadata": {
    "collapsed": false
   }
  },
  {
   "cell_type": "code",
   "execution_count": 2,
   "outputs": [],
   "source": [
    "process_schema = {\n",
    "    \"main\": {\n",
    "        \"steps\": {\n",
    "            \"start\": {\n",
    "                \"type\": \"system\",\n",
    "                \"action\": \"template\",\n",
    "                \"args\": {\n",
    "                    \"schema\": \"navigate_to_google\",\n",
    "                    \"process\": \"main\"\n",
    "                }\n",
    "            }\n",
    "        }\n",
    "    },\n",
    "    \"_results\": {}\n",
    "}\n",
    "\n",
    "await api.process.run_process(api, process_schema[\"main\"], None, None)"
   ],
   "metadata": {
    "collapsed": false,
    "ExecuteTime": {
     "end_time": "2023-09-12T10:41:38.510671800Z",
     "start_time": "2023-09-12T10:41:31.871480200Z"
    }
   }
  },
  {
   "cell_type": "code",
   "execution_count": 2,
   "outputs": [],
   "source": [
    "process_schema = {\n",
    "    \"main\": {\n",
    "        \"steps\": {\n",
    "            \"start\": {\n",
    "                \"type\": \"system\",\n",
    "                \"action\": \"template\",\n",
    "                \"args\": {\n",
    "                    \"schema\": \"navigate_to\",\n",
    "                    \"process\": \"main\",\n",
    "                    \"parameters\": {\n",
    "                        \"url\": \"https://www.google.com\"\n",
    "                    }\n",
    "                }\n",
    "            }\n",
    "        }\n",
    "    },\n",
    "    \"_results\": {}\n",
    "}\n",
    "\n",
    "await api.process.run_process(api, process_schema[\"main\"], None, None)"
   ],
   "metadata": {
    "collapsed": false,
    "ExecuteTime": {
     "end_time": "2023-09-11T12:03:23.837512300Z",
     "start_time": "2023-09-11T12:03:17.108803700Z"
    }
   }
  },
  {
   "cell_type": "markdown",
   "source": [],
   "metadata": {
    "collapsed": false
   }
  },
  {
   "cell_type": "code",
   "execution_count": 3,
   "outputs": [],
   "source": [
    "api.close(False)"
   ],
   "metadata": {
    "collapsed": false,
    "ExecuteTime": {
     "end_time": "2023-09-12T10:41:43.903832400Z",
     "start_time": "2023-09-12T10:41:43.808025800Z"
    }
   }
  }
 ],
 "metadata": {
  "kernelspec": {
   "display_name": "Python 3",
   "language": "python",
   "name": "python3"
  },
  "language_info": {
   "codemirror_mode": {
    "name": "ipython",
    "version": 2
   },
   "file_extension": ".py",
   "mimetype": "text/x-python",
   "name": "python",
   "nbconvert_exporter": "python",
   "pygments_lexer": "ipython2",
   "version": "2.7.6"
  }
 },
 "nbformat": 4,
 "nbformat_minor": 0
}
