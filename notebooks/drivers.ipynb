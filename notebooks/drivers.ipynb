{
 "cells": [
  {
   "cell_type": "markdown",
   "source": [
    "### Creating drivers\n",
    "\n",
    "This example will show you how to run different drivers so that you can run different types of simulations.\n",
    "\n",
    "#### Chrome drivers\n",
    "\n",
    "You need to make sure that you have a folder in the root of the project called “chrome”. In that folder you need two things.\n",
    "- copy of the chrome driver\n",
    "- copy of the chrome binary\n",
    "You can download both at: https://googlechromelabs.github.io/chrome-for-testing/#stable Make sure you download both as win64 for “Version: 116.0.5845.96 (r1160321)”\n",
    "\n",
    "The ui_testing_process/chrome folder should now contain the chrome exe and supporting files along with the chromedriver exe. You can download a newer version if you wish, but you should make sure that you download both the chrome and driver for the same version and extract them into the chrome folder.\n"
   ],
   "metadata": {
    "collapsed": false
   }
  },
  {
   "cell_type": "code",
   "execution_count": null,
   "outputs": [],
   "source": [
    "## Initialize chrome diver"
   ],
   "metadata": {
    "collapsed": false
   }
  },
  {
   "cell_type": "code",
   "execution_count": 2,
   "outputs": [],
   "source": [
    "from src.selenium.driver import Driver\n",
    "import os\n",
    "\n",
    "# you will need a path to where the driver and chrome is located\n",
    "current_directory = os.getcwd()\n",
    "full_chrome_path = os.path.join(current_directory, \"./../chrome/chromedriver.exe\")\n",
    "full_chrome_path = os.path.normpath(full_chrome_path)\n",
    "\n",
    "driver = await Driver.init(\"chrome\", {\n",
    "    \"driver_path\": full_chrome_path\n",
    "})\n",
    "\n",
    "# close the driver after we are done with it\n",
    "await Driver.close(driver)"
   ],
   "metadata": {
    "collapsed": false,
    "ExecuteTime": {
     "end_time": "2023-09-11T07:02:41.526731300Z",
     "start_time": "2023-09-11T07:02:38.401610100Z"
    }
   }
  },
  {
   "cell_type": "markdown",
   "source": [
    "## Initialize firefox driver"
   ],
   "metadata": {
    "collapsed": false
   }
  },
  {
   "cell_type": "code",
   "execution_count": 1,
   "outputs": [],
   "source": [
    "from src.selenium.driver import Driver\n",
    "import os\n",
    "\n",
    "driver = await Driver.init(\"firefox\", {})\n",
    "\n",
    "# close the driver after we are done with it\n",
    "await Driver.close(driver)"
   ],
   "metadata": {
    "collapsed": false,
    "ExecuteTime": {
     "end_time": "2023-09-11T07:02:33.759227500Z",
     "start_time": "2023-09-11T07:02:27.196216500Z"
    }
   }
  }
 ],
 "metadata": {
  "kernelspec": {
   "display_name": "Python 3",
   "language": "python",
   "name": "python3"
  },
  "language_info": {
   "codemirror_mode": {
    "name": "ipython",
    "version": 2
   },
   "file_extension": ".py",
   "mimetype": "text/x-python",
   "name": "python",
   "nbconvert_exporter": "python",
   "pygments_lexer": "ipython2",
   "version": "2.7.6"
  }
 },
 "nbformat": 4,
 "nbformat_minor": 0
}
