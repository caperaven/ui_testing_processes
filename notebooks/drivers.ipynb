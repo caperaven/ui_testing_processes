{
 "cells": [
  {
   "cell_type": "markdown",
   "source": [
    "### Creating drivers\n",
    "\n",
    "This example will show you how to run different drivers so that you can run different types of simulations.\n",
    "\n",
    "#### Chrome drivers\n",
    "\n",
    "You need to make sure that you have a folder in the root of the project called “chrome”. In that folder you need two things.\n",
    "- copy of the chrome driver\n",
    "- copy of the chrome binary\n",
    "You can download both at: https://googlechromelabs.github.io/chrome-for-testing/#stable Make sure you download both as win64 for “Version: 116.0.5845.96 (r1160321)”\n",
    "\n",
    "The ui_testing_process/chrome folder should now contain the chrome exe and supporting files along with the chromedriver exe. You can download a newer version if you wish, but you should make sure that you download both the chrome and driver for the same version and extract them into the chrome folder.\n",
    "\n",
    "##### Mac\n",
    "Before you do anything first manually open chrome, it may give you a error that chrome is broken.\n",
    "If this happens you can fix it by running this command in the terminal and then restarting chrome.\n",
    "```xattr -cr 'Google Chrome for Testing.app'```\n",
    "Make sure you run in this in the same folder as the app.\n",
    "\n",
    "#### Firefox drivers\n",
    "\n",
    "Firefox is simple, you just install it and open it once.\n",
    "After that all is fine. I tested this with the latest firefox and did not have install the geko drivers at all.\n",
    "It works as is.\n",
    "\n",
    "#### Safari drivers\n",
    "\n",
    "For this to work in safari you need to enable remote automation.\n",
    "This is found in the develop menu (at the top,  normal toolbar).\n",
    "If you don't have develop as a menu item you will need to enable it by going to settings / advanced and enable show develop menu in menu bar.\n"
   ],
   "metadata": {
    "collapsed": false
   }
  },
  {
   "cell_type": "code",
   "execution_count": null,
   "outputs": [],
   "source": [
    "## Initialize chrome diver"
   ],
   "metadata": {
    "collapsed": false
   }
  },
  {
   "cell_type": "code",
   "execution_count": 7,
   "outputs": [],
   "source": [
    "from src.selenium.driver import Driver\n",
    "import os\n",
    "\n",
    "# you will need a path to where the driver and chrome is located\n",
    "current_directory = os.getcwd()\n",
    "full_chrome_path = os.path.join(current_directory, \"./../chrome/chromedriver.exe\")\n",
    "full_chrome_path = os.path.normpath(full_chrome_path)\n",
    "\n",
    "driver = await Driver.init(\"chrome\", {\n",
    "    \"driver_path\": full_chrome_path\n",
    "})\n",
    "\n",
    "# close the driver after we are done with it\n",
    "await Driver.close(driver)"
   ],
   "metadata": {
    "collapsed": false,
    "ExecuteTime": {
     "end_time": "2023-09-12T09:26:28.904133Z",
     "start_time": "2023-09-12T09:26:25.743761Z"
    }
   }
  },
  {
   "cell_type": "markdown",
   "source": [
    "## Initialize firefox driver"
   ],
   "metadata": {
    "collapsed": false
   }
  },
  {
   "cell_type": "code",
   "execution_count": 8,
   "outputs": [],
   "source": [
    "from src.selenium.driver import Driver\n",
    "import os\n",
    "\n",
    "driver = await Driver.init(\"firefox\", {})\n",
    "\n",
    "# close the driver after we are done with it\n",
    "await Driver.close(driver)"
   ],
   "metadata": {
    "collapsed": false,
    "ExecuteTime": {
     "end_time": "2023-09-12T09:26:37.349424Z",
     "start_time": "2023-09-12T09:26:32.355794Z"
    }
   }
  },
  {
   "cell_type": "markdown",
   "source": [
    "## Initialize safari driver"
   ],
   "metadata": {
    "collapsed": false
   }
  },
  {
   "cell_type": "code",
   "execution_count": 9,
   "outputs": [],
   "source": [
    "from src.selenium.driver import Driver\n",
    "import time\n",
    "\n",
    "driver = await Driver.init(\"safari\", {})\n",
    "\n",
    "time.sleep(1)\n",
    "await Driver.close(driver)"
   ],
   "metadata": {
    "collapsed": false,
    "ExecuteTime": {
     "end_time": "2023-09-12T09:26:41.368703Z",
     "start_time": "2023-09-12T09:26:38.749442Z"
    }
   }
  }
 ],
 "metadata": {
  "kernelspec": {
   "display_name": "Python 3",
   "language": "python",
   "name": "python3"
  },
  "language_info": {
   "codemirror_mode": {
    "name": "ipython",
    "version": 2
   },
   "file_extension": ".py",
   "mimetype": "text/x-python",
   "name": "python",
   "nbconvert_exporter": "python",
   "pygments_lexer": "ipython2",
   "version": "2.7.6"
  }
 },
 "nbformat": 4,
 "nbformat_minor": 0
}
